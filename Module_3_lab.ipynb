{
 "cells": [
  {
   "cell_type": "code",
   "execution_count": 41,
   "id": "488c6f73-cdc2-4fa4-894e-c39c779e8f8d",
   "metadata": {},
   "outputs": [
    {
     "name": "stdin",
     "output_type": "stream",
     "text": [
      "Type:  car\n",
      "Year:  2022\n",
      "Make:  Toyota\n",
      "Model:  Corolla\n",
      "Doors (2 or 4):  4\n",
      "roof (solid or sun roof):  sun rooff\n"
     ]
    },
    {
     "name": "stdout",
     "output_type": "stream",
     "text": [
      "________________________________________\n",
      "Vehicle type: car\n",
      "Year: 2022\n",
      "Make: Toyota\n",
      "Model: Corolla\n",
      "Number of doors: 4\n",
      "Type of roof: sun rooff\n"
     ]
    }
   ],
   "source": [
    "class Vehicle():\n",
    "    def __init__(self):\n",
    "        self.type = input('Type: ')\n",
    "    \n",
    "class Automobile(Vehicle):\n",
    "    \n",
    "    def __init__(self):\n",
    "        #Vehicle.type\n",
    "        self.year = input('Year: ')\n",
    "        self.make = input('Make: ')\n",
    "        self.model = input('Model: ')\n",
    "        self.doors = input('Doors (2 or 4): ')\n",
    "        self.roof = input('roof (solid or sun roof): ')\n",
    "type = Vehicle()\n",
    "car = Automobile()\n",
    "print('________________________________________')\n",
    "print('Vehicle type: ' + type.type)\n",
    "print('Year: ' + car.year)\n",
    "print('Make: ' + car.make)\n",
    "print('Model: ' + car.model)\n",
    "print('Number of doors: ' + car.doors)\n",
    "print('Type of roof: ' + car.roof)"
   ]
  }
 ],
 "metadata": {
  "kernelspec": {
   "display_name": "Python 3 (ipykernel)",
   "language": "python",
   "name": "python3"
  },
  "language_info": {
   "codemirror_mode": {
    "name": "ipython",
    "version": 3
   },
   "file_extension": ".py",
   "mimetype": "text/x-python",
   "name": "python",
   "nbconvert_exporter": "python",
   "pygments_lexer": "ipython3",
   "version": "3.12.4"
  }
 },
 "nbformat": 4,
 "nbformat_minor": 5
}
